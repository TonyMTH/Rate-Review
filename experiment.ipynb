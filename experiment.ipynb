{
 "cells": [
  {
   "cell_type": "code",
   "execution_count": 1,
   "metadata": {},
   "outputs": [],
   "source": [
    "from torch.utils.data import DataLoader\n",
    "import preprocess as pr\n",
    "import model as md\n",
    "import torch\n",
    "from torch import nn, optim\n",
    "import pickle\n",
    "from pathlib import Path"
   ]
  },
  {
   "cell_type": "code",
   "execution_count": 2,
   "metadata": {},
   "outputs": [
    {
     "name": "stdout",
     "output_type": "stream",
     "text": [
      "Define Processor\n",
      "Fetch Datasets\n",
      "Define Model\n",
      "Parameters\n"
     ]
    }
   ],
   "source": [
    "# Define Processor\n",
    "print(\"Define Processor\")\n",
    "device = torch.device(\"cuda\" if torch.cuda.is_available() else \"cpu\")\n",
    "\n",
    "# Fetch Datasets\n",
    "print(\"Fetch Datasets\")\n",
    "data_path = './data/AmazonReviewFull/amazon_review_full_csv/'\n",
    "df_train = pr.load_data(data_path + \"train.csv\")\n",
    "df_test = pr.load_data(data_path + \"test.csv\")\n",
    "\n",
    "# Define Model\n",
    "print(\"Define Model\")\n",
    "MAX_SEQ_LEN = 32\n",
    "emb_dim = 300\n",
    "model = md.Classifier(MAX_SEQ_LEN, emb_dim, 16, 16)\n",
    "model.to(device)\n",
    "\n",
    "# Parameters\n",
    "print(\"Parameters\")\n",
    "lr = 0.003\n",
    "criterion = nn.NLLLoss()\n",
    "optimizer = optim.Adam(model.parameters(), lr=lr)\n",
    "epochs = 30\n",
    "printing_gap = 1\n",
    "model_path = 'data/best_model.pt'\n",
    "saved_model_device = torch.device(\"cpu\")\n",
    "device = torch.device(\"cuda\" if torch.cuda.is_available() else \"cpu\")\n",
    "batch_size = 16\n"
   ]
  },
  {
   "cell_type": "code",
   "execution_count": 3,
   "metadata": {},
   "outputs": [
    {
     "name": "stdout",
     "output_type": "stream",
     "text": [
      "TrainData\n"
     ]
    }
   ],
   "source": [
    "# Loaders\n",
    "print(\"TrainData\")\n",
    "\n",
    "df_train, df_test = df_train.iloc[:20], df_test.iloc[:20]\n",
    "\n",
    "dataset_train = pr.TrainData(df_train, max_seq_len=32)\n",
    "dataset_test = pr.TrainData(df_test, max_seq_len=32)\n"
   ]
  },
  {
   "cell_type": "code",
   "execution_count": null,
   "metadata": {},
   "outputs": [],
   "source": [
    "print(\"Collate\")\n",
    "train_collate = lambda batch: pr.collate(batch, vectorizer=dataset_train.vectorizer)\n",
    "test_collate = lambda batch: pr.collate(batch, vectorizer=dataset_test.vectorizer)"
   ]
  },
  {
   "cell_type": "code",
   "execution_count": null,
   "metadata": {},
   "outputs": [],
   "source": [
    "print(\"DataLoader\")\n",
    "train_loader = DataLoader(dataset_train, batch_size=batch_size, collate_fn=train_collate)\n",
    "test_loader = DataLoader(dataset_test, batch_size=batch_size, collate_fn=test_collate)"
   ]
  },
  {
   "cell_type": "code",
   "execution_count": null,
   "metadata": {},
   "outputs": [],
   "source": [
    "def getLoader(loader):\n",
    "    global result\n",
    "    result = loader\n",
    "    return loader\n",
    "\n"
   ]
  },
  {
   "cell_type": "code",
   "execution_count": 9,
   "metadata": {},
   "outputs": [],
   "source": [
    "\n",
    "\n",
    "PIK = \"data/pickle.dat\"\n",
    "\n",
    "my_file = Path(PIK)\n",
    "if my_file.is_file():\n",
    "    with open(PIK, \"rb\") as f:\n",
    "        data = pickle.load(f)\n",
    "else:\n",
    "    dataset_train = pr.TrainData(df_train, max_seq_len=32)\n",
    "    dataset_test = pr.TrainData(df_test, max_seq_len=32)\n",
    "    data = {'dataset_train':dataset_train, 'dataset_test':dataset_test}\n",
    "\n",
    "    with open(PIK, \"wb\") as f:\n",
    "        pickle.dump(data, f)\n",
    "\n",
    "dataset_train = data['dataset_train']\n",
    "dataset_test = data['dataset_test']"
   ]
  },
  {
   "cell_type": "code",
   "execution_count": null,
   "metadata": {},
   "outputs": [],
   "source": [
    "# Train Model\n",
    "printing_gap = 1\n",
    "epochs = 30\n",
    "print(\"Train loop\")\n",
    "pr.train_loop(model, epochs, optimizer, criterion, train_loader, test_loader, emb_dim,\n",
    "              printing_gap, saved_model_device, model_path, device)\n"
   ]
  },
  {
   "cell_type": "code",
   "execution_count": null,
   "metadata": {},
   "outputs": [],
   "source": []
  },
  {
   "cell_type": "code",
   "execution_count": null,
   "metadata": {},
   "outputs": [],
   "source": []
  }
 ],
 "metadata": {
  "interpreter": {
   "hash": "6db46579acbdddf7fbf4f4c1844cec333bde4153c6760542894038a6efc1d9c3"
  },
  "kernelspec": {
   "display_name": "Python 3.9.7 64-bit ('strive': conda)",
   "language": "python",
   "name": "python3"
  },
  "language_info": {
   "codemirror_mode": {
    "name": "ipython",
    "version": 3
   },
   "file_extension": ".py",
   "mimetype": "text/x-python",
   "name": "python",
   "nbconvert_exporter": "python",
   "pygments_lexer": "ipython3",
   "version": "3.9.7"
  },
  "orig_nbformat": 4
 },
 "nbformat": 4,
 "nbformat_minor": 2
}
